{
 "cells": [
  {
   "cell_type": "markdown",
   "id": "1fcfa901",
   "metadata": {},
   "source": [
    "## Citibikes EDA: Potential Failure Rates"
   ]
  },
  {
   "cell_type": "code",
   "execution_count": 32,
   "id": "7fafbcf5",
   "metadata": {},
   "outputs": [],
   "source": [
    "# Setup for notebook\n",
    "\n",
    "# Setup for pd, sns and plt\n",
    "import pandas as pd\n",
    "import seaborn as sns\n",
    "import matplotlib.pyplot as plt\n",
    "\n",
    "# Setup for BigQuery\n",
    "from google.cloud import bigquery\n",
    "from google.oauth2 import service_account"
   ]
  },
  {
   "cell_type": "code",
   "execution_count": 24,
   "id": "e321048a",
   "metadata": {},
   "outputs": [],
   "source": [
    "# Path to service account JSON\n",
    "key_path = '/home/shaunycl/test2/ntu-sctp-dsai1f-project-team6/meltano-learn-ntu-ca618302dc13.json'\n",
    "\n",
    "# Create credentials and BigQuery client\n",
    "credentials = service_account.Credentials.from_service_account_file(key_path)\n",
    "client = bigquery.Client(credentials=credentials, project=credentials.project_id)"
   ]
  },
  {
   "cell_type": "code",
   "execution_count": 29,
   "id": "e1d8e777",
   "metadata": {},
   "outputs": [],
   "source": [
    "query = \"\"\"\n",
    "    SELECT \n",
    "        trip_id,\n",
    "        bike_type_id,\n",
    "        distance_metres,\n",
    "        duration_mins,\n",
    "        membership_type_id,\n",
    "        price_paid\n",
    "    FROM \n",
    "        `meltano-learn-ntu.citibike_dbt.fact_trips`\n",
    "    ORDER BY RAND()\n",
    "    LIMIT 10000\n",
    "\"\"\"\n",
    "\n",
    "# Run the query and load results into pandas DataFrame\n",
    "df = client.query(query).to_dataframe()\n"
   ]
  },
  {
   "cell_type": "code",
   "execution_count": 38,
   "id": "6abd3752",
   "metadata": {},
   "outputs": [],
   "source": [
    "# Map IDs to Readable names\n",
    "# f37b539769f48b546ee51fc0be867626 is classic_bike\n",
    "# f877892b7f02356b109fce82d4dfc5ca is electric_bike\n",
    "\n",
    "# Define the mapping\n",
    "bike_type_mapping = {\n",
    "    'f37b539769f48b546ee51fc0be867626': 'classic_bike',\n",
    "    'f877892b7f02356b109fce82d4dfc5ca': 'electric_bike'\n",
    "}\n",
    "\n",
    "# Apply it to create new column\n",
    "df['bike_type_name'] = df['bike_type_id'].map(bike_type_mapping)"
   ]
  },
  {
   "cell_type": "code",
   "execution_count": 44,
   "id": "ecb0ced2",
   "metadata": {},
   "outputs": [
    {
     "name": "stdout",
     "output_type": "stream",
     "text": [
      "<class 'pandas.core.frame.DataFrame'>\n",
      "RangeIndex: 10000 entries, 0 to 9999\n",
      "Data columns (total 8 columns):\n",
      " #   Column              Non-Null Count  Dtype  \n",
      "---  ------              --------------  -----  \n",
      " 0   trip_id             10000 non-null  object \n",
      " 1   bike_type_id        10000 non-null  object \n",
      " 2   distance_metres     9999 non-null   Int64  \n",
      " 3   duration_mins       10000 non-null  Int64  \n",
      " 4   membership_type_id  10000 non-null  object \n",
      " 5   price_paid          10000 non-null  float64\n",
      " 6   suspected_failure   10000 non-null  int64  \n",
      " 7   bike_type_name      10000 non-null  object \n",
      "dtypes: Int64(2), float64(1), int64(1), object(4)\n",
      "memory usage: 644.7+ KB\n"
     ]
    },
    {
     "data": {
      "text/plain": [
       "bike_type_name\n",
       "classic_bike     0.062175\n",
       "electric_bike    0.033138\n",
       "Name: suspected_failure, dtype: float64"
      ]
     },
     "execution_count": 44,
     "metadata": {},
     "output_type": "execute_result"
    }
   ],
   "source": [
    "df.info()\n",
    "df.describe()\n",
    "\n",
    "# Failure flag logic\n",
    "df['suspected_failure'] = (\n",
    "    (df['duration_mins'] < 1) |\n",
    "    (df['duration_mins'] > 180) |\n",
    "    (df['distance_metres'] == 0) |\n",
    "    (df['distance_metres'] > 10000)\n",
    ").astype(int)\n",
    "\n",
    "# Failure rate by bike type\n",
    "df.groupby('bike_type_name')['suspected_failure'].mean()\n"
   ]
  },
  {
   "cell_type": "code",
   "execution_count": null,
   "id": "6c15955f",
   "metadata": {},
   "outputs": [
    {
     "name": "stderr",
     "output_type": "stream",
     "text": [
      "/tmp/ipykernel_9069/1814614892.py:4: FutureWarning: \n",
      "\n",
      "Passing `palette` without assigning `hue` is deprecated and will be removed in v0.14.0. Assign the `x` variable to `hue` and set `legend=False` for the same effect.\n",
      "\n",
      "  sns.barplot(\n"
     ]
    },
    {
     "data": {
      "image/png": "[encoded data removed]",
      "text/plain": [
       "<Figure size 800x500 with 1 Axes>"
      ]
     },
     "metadata": {},
     "output_type": "display_data"
    }
   ],
   "source": [
    "failure_by_bike = df.groupby('bike_type_name')['suspected_failure'].mean().reset_index()\n",
    "\n",
    "plt.figure(figsize=(8, 5))\n",
    "sns.barplot(\n",
    "    data=failure_by_bike,\n",
    "    x='bike_type_name',\n",
    "    y='suspected_failure',\n",
    "    palette='Set2'\n",
    ")\n",
    "\n",
    "plt.title('Estimated Failure Rate by Bike Type', fontsize=14)\n",
    "plt.ylabel('Failure Rate')\n",
    "plt.xlabel('Bike Type')\n",
    "plt.ylim(0, failure_by_bike['suspected_failure'].max() * 1.2)\n",
    "plt.gca().yaxis.set_major_formatter(plt.FuncFormatter(lambda y, _: f'{y:.1%}'))\n",
    "\n",
    "# Show exact values on top of bars\n",
    "for index, row in failure_by_bike.iterrows():\n",
    "    plt.text(index, row['suspected_failure'] + 0.002, f\"{row['suspected_failure']:.2%}\", \n",
    "             ha='center', va='bottom', fontsize=10)\n",
    "\n",
    "plt.tight_layout()\n",
    "plt.show()"
   ]
  }
 ],
 "metadata": {
  "kernelspec": {
   "display_name": "dsai_project",
   "language": "python",
   "name": "python3"
  },
  "language_info": {
   "codemirror_mode": {
    "name": "ipython",
    "version": 3
   },
   "file_extension": ".py",
   "mimetype": "text/x-python",
   "name": "python",
   "nbconvert_exporter": "python",
   "pygments_lexer": "ipython3",
   "version": "3.11.0"
  }
 },
 "nbformat": 4,
 "nbformat_minor": 5
}

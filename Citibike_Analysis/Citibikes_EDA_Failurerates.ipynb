{
 "cells": [
  {
   "cell_type": "code",
   "execution_count": 39,
   "id": "de8f6681-62d1-450a-bac2-61d6004700d4",
   "metadata": {},
   "outputs": [],
   "source": [
    "# Setup for notebook\n",
    "\n",
    "# Setup for pd, sns and plt\n",
    "import pandas as pd\n",
    "import seaborn as sns\n",
    "import matplotlib.pyplot as plt\n",
    "\n",
    "# Setup for BigQuery\n",
    "from google.cloud import bigquery\n",
    "from google.oauth2 import service_account"
   ]
  },
  {
   "cell_type": "code",
   "execution_count": 40,
   "id": "04ad50c8",
   "metadata": {},
   "outputs": [
    {
     "name": "stdout",
     "output_type": "stream",
     "text": [
      "Key exists: True\n"
     ]
    }
   ],
   "source": [
    "# Setup for BigQuery\n",
    "from google.cloud import bigquery\n",
    "from google.oauth2 import service_account\n",
    "\n",
    "# Specify the filename of your service account key (make sure it's in the same folder as your notebook)\n",
    "key_path = '/home/hanafi/ntu-sctp-dsai1f-project-team6/Citibike_Analysis/forward-garden-461903-m9-863379912db1.json'\n",
    "\n",
    "# Confirm the file exists (optional check)\n",
    "import os\n",
    "print(\"Key exists:\", os.path.exists(key_path))  # Should return True\n",
    "\n",
    "# Create credentials and BigQuery client\n",
    "credentials = service_account.Credentials.from_service_account_file(key_path)\n",
    "client = bigquery.Client(credentials=credentials, project='forward-garden-461903-m9')\n",
    "\n"
   ]
  },
  {
   "cell_type": "code",
   "execution_count": 44,
   "id": "24f10c10",
   "metadata": {},
   "outputs": [],
   "source": [
    "query = \"\"\"\n",
    "SELECT\n",
    "  trip_id,\n",
    "  bike_type_id,\n",
    "  distance_m,\n",
    "  duration_mins,\n",
    "  membership_type_id,\n",
    "  price_paid\n",
    "FROM `forward-garden-461903-m9.citibike.fact_trips`\n",
    "ORDER BY RAND()\n",
    "LIMIT 10000\n",
    "\"\"\"\n"
   ]
  },
  {
   "cell_type": "code",
   "execution_count": 45,
   "id": "46b9efd7",
   "metadata": {},
   "outputs": [],
   "source": [
    "client = bigquery.Client(credentials=credentials, project='forward-garden-461903-m9')\n"
   ]
  },
  {
   "cell_type": "code",
   "execution_count": 46,
   "id": "98ef9437",
   "metadata": {},
   "outputs": [
    {
     "name": "stderr",
     "output_type": "stream",
     "text": [
      "/home/hanafi/miniconda3/envs/dsai_project/lib/python3.10/site-packages/google/cloud/bigquery/table.py:1957: UserWarning: BigQuery Storage module not found, fetch data with the REST endpoint instead.\n",
      "  warnings.warn(\n"
     ]
    },
    {
     "name": "stdout",
     "output_type": "stream",
     "text": [
      "            trip_id                      bike_type_id   distance_m  \\\n",
      "0  9B8AA22D04E5606D  f877892b7f02356b109fce82d4dfc5ca  1019.997568   \n",
      "1  41A16D61FDC2B21C  f37b539769f48b546ee51fc0be867626  1143.559752   \n",
      "2  9EE5B5CAD62C3E77  f877892b7f02356b109fce82d4dfc5ca  1249.120602   \n",
      "3  2D57723FB7190DCF  f877892b7f02356b109fce82d4dfc5ca   807.460403   \n",
      "4  BDC39C0270C8CFD1  f877892b7f02356b109fce82d4dfc5ca  1304.029527   \n",
      "\n",
      "   duration_mins                membership_type_id  price_paid  \n",
      "0              6  aa08769cdcb26674c6706093503ff0a3        1.50  \n",
      "1              8  aa08769cdcb26674c6706093503ff0a3        0.00  \n",
      "2              8  c81bef2d87e668462190bb2281874bb5        3.04  \n",
      "3              3  c81bef2d87e668462190bb2281874bb5        1.14  \n",
      "4             23  c81bef2d87e668462190bb2281874bb5        8.74  \n"
     ]
    }
   ],
   "source": [
    "df = client.query(query).to_dataframe()\n",
    "print(df.head())\n"
   ]
  },
  {
   "cell_type": "code",
   "execution_count": 47,
   "id": "2cdda7d6",
   "metadata": {},
   "outputs": [],
   "source": [
    "# Map IDs to Readable names\n",
    "# f37b539769f48b546ee51fc0be867626 is classic_bike\n",
    "# f877892b7f02356b109fce82d4dfc5ca is electric_bike\n",
    "\n",
    "# Define the mapping\n",
    "bike_type_mapping = {\n",
    "    'f37b539769f48b546ee51fc0be867626': 'classic_bike',\n",
    "    'f877892b7f02356b109fce82d4dfc5ca': 'electric_bike'\n",
    "}\n",
    "\n",
    "# Apply it to create new column\n",
    "df['bike_type_name'] = df['bike_type_id'].map(bike_type_mapping)"
   ]
  },
  {
   "cell_type": "code",
   "execution_count": 50,
   "id": "857999a7",
   "metadata": {},
   "outputs": [
    {
     "name": "stdout",
     "output_type": "stream",
     "text": [
      "<class 'pandas.core.frame.DataFrame'>\n",
      "RangeIndex: 10000 entries, 0 to 9999\n",
      "Data columns (total 7 columns):\n",
      " #   Column              Non-Null Count  Dtype  \n",
      "---  ------              --------------  -----  \n",
      " 0   trip_id             10000 non-null  object \n",
      " 1   bike_type_id        10000 non-null  object \n",
      " 2   distance_m          10000 non-null  float64\n",
      " 3   duration_mins       10000 non-null  Int64  \n",
      " 4   membership_type_id  10000 non-null  object \n",
      " 5   price_paid          10000 non-null  float64\n",
      " 6   bike_type_name      10000 non-null  object \n",
      "dtypes: Int64(1), float64(2), object(4)\n",
      "memory usage: 556.8+ KB\n"
     ]
    },
    {
     "data": {
      "text/plain": [
       "bike_type_name\n",
       "classic_bike     0.057272\n",
       "electric_bike    0.030740\n",
       "Name: suspected_failure, dtype: float64"
      ]
     },
     "execution_count": 50,
     "metadata": {},
     "output_type": "execute_result"
    }
   ],
   "source": [
    "df.info()\n",
    "df.describe()\n",
    "\n",
    "# Failure flag logic\n",
    "df['suspected_failure'] = (\n",
    "    (df['duration_mins'] < 1) |\n",
    "    (df['duration_mins'] > 180) |\n",
    "    (df['distance_m'] == 0) |\n",
    "    (df['distance_m'] > 10000)\n",
    ").astype(int)\n",
    "\n",
    "# Failure rate by bike type\n",
    "df.groupby('bike_type_name')['suspected_failure'].mean()"
   ]
  },
  {
   "cell_type": "code",
   "execution_count": 51,
   "id": "bcaba3bc",
   "metadata": {},
   "outputs": [
    {
     "name": "stderr",
     "output_type": "stream",
     "text": [
      "/tmp/ipykernel_2693335/3663244474.py:4: FutureWarning: \n",
      "\n",
      "Passing `palette` without assigning `hue` is deprecated and will be removed in v0.14.0. Assign the `x` variable to `hue` and set `legend=False` for the same effect.\n",
      "\n",
      "  sns.barplot(\n"
     ]
    },
    {
     "data": {
      "image/png": "[encoded data removed]",
      "text/plain": [
       "<Figure size 800x500 with 1 Axes>"
      ]
     },
     "metadata": {},
     "output_type": "display_data"
    }
   ],
   "source": [
    "failure_by_bike = df.groupby('bike_type_name')['suspected_failure'].mean().reset_index()\n",
    "\n",
    "plt.figure(figsize=(8, 5))\n",
    "sns.barplot(\n",
    "    data=failure_by_bike,\n",
    "    x='bike_type_name',\n",
    "    y='suspected_failure',\n",
    "    palette='Set2'\n",
    ")\n",
    "\n",
    "plt.title('Estimated Failure Rate by Bike Type', fontsize=14)\n",
    "plt.ylabel('Failure Rate')\n",
    "plt.xlabel('Bike Type')\n",
    "plt.ylim(0, failure_by_bike['suspected_failure'].max() * 1.2)\n",
    "plt.gca().yaxis.set_major_formatter(plt.FuncFormatter(lambda y, _: f'{y:.1%}'))\n",
    "\n",
    "# Show exact values on top of bars\n",
    "for index, row in failure_by_bike.iterrows():\n",
    "    plt.text(index, row['suspected_failure'] + 0.002, f\"{row['suspected_failure']:.2%}\", \n",
    "             ha='center', va='bottom', fontsize=10)\n",
    "\n",
    "plt.tight_layout()\n",
    "plt.show()"
   ]
  },
  {
   "cell_type": "markdown",
   "id": "50539575",
   "metadata": {},
   "source": [
    "Key Findings:"
   ]
  },
  {
   "cell_type": "markdown",
   "id": "5b0107ad",
   "metadata": {},
   "source": [
    "```Python\n",
    "\n",
    "The chart compares the failure rates of two bike types:\n",
    "\n",
    "Classic Bikes → ~5.73%\n",
    "\n",
    "Electric Bikes → ~3.07%`\n",
    "\n",
    "\n",
    "1. Classic Bikes Fail More Often\n",
    "\n",
    "- The failure rate of classic bikes is nearly double that of electric bikes.\n",
    "\n",
    "- Possible reasons:\n",
    "\n",
    "   They are older or more widely used.\n",
    "\n",
    "   Heavier mechanical wear (chains, pedals, brakes).\n",
    "\n",
    "   Less regular maintenance or servicing.\n",
    "\n",
    "2. Electric Bikes Might Be Newer or Better Maintained\n",
    "\n",
    "- Despite being more complex, electric bikes have a lower failure rate, possibly due to:\n",
    "\n",
    "    Proactive monitoring systems.\n",
    "\n",
    "    Being newer additions to the fleet.\n",
    "\n",
    "    Stricter maintenance schedules.\n",
    "\n",
    "3. Impact on Operations\n",
    "\n",
    "- High failure rates in classic bikes could lead to:\n",
    "\n",
    "    More downtime.\n",
    "\n",
    "    User dissatisfaction.\n",
    "\n",
    "    Greater repair and replacement costs.\n",
    "\n",
    "4. Strategic Decisions\n",
    "\n",
    "- Findings could justify:\n",
    "\n",
    "    Retiring older classic bikes.\n",
    "\n",
    "    Expanding electric bike deployment.\n",
    "\n",
    "    Reevaluating maintenance strategies.\n",
    "\n",
    "```"
   ]
  }
 ],
 "metadata": {
  "kernelspec": {
   "display_name": "dsai_project",
   "language": "python",
   "name": "python3"
  },
  "language_info": {
   "codemirror_mode": {
    "name": "ipython",
    "version": 3
   },
   "file_extension": ".py",
   "mimetype": "text/x-python",
   "name": "python",
   "nbconvert_exporter": "python",
   "pygments_lexer": "ipython3",
   "version": "3.10.18"
  }
 },
 "nbformat": 4,
 "nbformat_minor": 5
}

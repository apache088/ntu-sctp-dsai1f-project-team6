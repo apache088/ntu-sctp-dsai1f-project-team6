{
 "cells": [
  {
   "cell_type": "markdown",
   "id": "fcdaf2f1",
   "metadata": {},
   "source": [
    "# Creating DB for exploratory data analysis"
   ]
  },
  {
   "cell_type": "markdown",
   "id": "c344c7a5",
   "metadata": {},
   "source": [
    "## Setting up common parameters"
   ]
  },
  {
   "cell_type": "code",
   "execution_count": 1,
   "id": "9675322d",
   "metadata": {},
   "outputs": [],
   "source": [
    "import sqlalchemy as sqla\n",
    "import pandas as pd"
   ]
  },
  {
   "cell_type": "code",
   "execution_count": 2,
   "id": "4b13aad9",
   "metadata": {},
   "outputs": [
    {
     "name": "stdout",
     "output_type": "stream",
     "text": [
      "mkdir: cannot create directory ‘../data’: File exists\n",
      "mkdir: cannot create directory ‘../db’: File exists\n"
     ]
    }
   ],
   "source": [
    "csv_folder_path = \"../data/\" # Relative folder path to source CSV file. Update as needed.\n",
    "db_folder_path = \"../db/\" # Relative folder path to DuckDB file. Update as needed.\n",
    "\n",
    "csv_file_name = \"JC-202505-citibike-tripdata.csv\" # File name of source CSV file. Update as needed.\n",
    "db_file_name = \"citibike-tripdata.db\" # File name of DuckDB file. Update as needed.\n",
    "\n",
    "df_table_name = \"citibike-tripdata\" # Table name in DuckDB. Update as needed.\n",
    "\n",
    "# Create directories if they don't exist\n",
    "! mkdir ../data\n",
    "! mkdir ../db"
   ]
  },
  {
   "cell_type": "code",
   "execution_count": 3,
   "id": "29730d17",
   "metadata": {},
   "outputs": [],
   "source": [
    "engine = sqla.create_engine(f'duckdb:///{db_folder_path}{db_file_name}')"
   ]
  },
  {
   "cell_type": "markdown",
   "id": "1eca388c",
   "metadata": {},
   "source": [
    "## Importing source data into DB"
   ]
  },
  {
   "cell_type": "code",
   "execution_count": 4,
   "id": "e5623d18",
   "metadata": {},
   "outputs": [
    {
     "data": {
      "text/html": [
       "<div>\n",
       "<style scoped>\n",
       "    .dataframe tbody tr th:only-of-type {\n",
       "        vertical-align: middle;\n",
       "    }\n",
       "\n",
       "    .dataframe tbody tr th {\n",
       "        vertical-align: top;\n",
       "    }\n",
       "\n",
       "    .dataframe thead th {\n",
       "        text-align: right;\n",
       "    }\n",
       "</style>\n",
       "<table border=\"1\" class=\"dataframe\">\n",
       "  <thead>\n",
       "    <tr style=\"text-align: right;\">\n",
       "      <th></th>\n",
       "      <th>start_lat</th>\n",
       "      <th>start_lng</th>\n",
       "      <th>end_lat</th>\n",
       "      <th>end_lng</th>\n",
       "    </tr>\n",
       "  </thead>\n",
       "  <tbody>\n",
       "    <tr>\n",
       "      <th>count</th>\n",
       "      <td>93227.000000</td>\n",
       "      <td>93227.000000</td>\n",
       "      <td>93199.000000</td>\n",
       "      <td>93199.000000</td>\n",
       "    </tr>\n",
       "    <tr>\n",
       "      <th>mean</th>\n",
       "      <td>40.732277</td>\n",
       "      <td>-74.040342</td>\n",
       "      <td>40.732200</td>\n",
       "      <td>-74.040070</td>\n",
       "    </tr>\n",
       "    <tr>\n",
       "      <th>std</th>\n",
       "      <td>0.012221</td>\n",
       "      <td>0.012124</td>\n",
       "      <td>0.012293</td>\n",
       "      <td>0.012228</td>\n",
       "    </tr>\n",
       "    <tr>\n",
       "      <th>min</th>\n",
       "      <td>40.706575</td>\n",
       "      <td>-74.086701</td>\n",
       "      <td>40.620000</td>\n",
       "      <td>-74.150000</td>\n",
       "    </tr>\n",
       "    <tr>\n",
       "      <th>25%</th>\n",
       "      <td>40.721525</td>\n",
       "      <td>-74.045953</td>\n",
       "      <td>40.721124</td>\n",
       "      <td>-74.045572</td>\n",
       "    </tr>\n",
       "    <tr>\n",
       "      <th>50%</th>\n",
       "      <td>40.735208</td>\n",
       "      <td>-74.037977</td>\n",
       "      <td>40.735208</td>\n",
       "      <td>-74.037977</td>\n",
       "    </tr>\n",
       "    <tr>\n",
       "      <th>75%</th>\n",
       "      <td>40.742258</td>\n",
       "      <td>-74.030970</td>\n",
       "      <td>40.742258</td>\n",
       "      <td>-74.030970</td>\n",
       "    </tr>\n",
       "    <tr>\n",
       "      <th>max</th>\n",
       "      <td>40.754530</td>\n",
       "      <td>-74.024020</td>\n",
       "      <td>40.848467</td>\n",
       "      <td>-73.936064</td>\n",
       "    </tr>\n",
       "  </tbody>\n",
       "</table>\n",
       "</div>"
      ],
      "text/plain": [
       "          start_lat     start_lng       end_lat       end_lng\n",
       "count  93227.000000  93227.000000  93199.000000  93199.000000\n",
       "mean      40.732277    -74.040342     40.732200    -74.040070\n",
       "std        0.012221      0.012124      0.012293      0.012228\n",
       "min       40.706575    -74.086701     40.620000    -74.150000\n",
       "25%       40.721525    -74.045953     40.721124    -74.045572\n",
       "50%       40.735208    -74.037977     40.735208    -74.037977\n",
       "75%       40.742258    -74.030970     40.742258    -74.030970\n",
       "max       40.754530    -74.024020     40.848467    -73.936064"
      ]
     },
     "execution_count": 4,
     "metadata": {},
     "output_type": "execute_result"
    }
   ],
   "source": [
    "df_source_data = pd.read_csv(f\"{csv_folder_path}{csv_file_name}\")\n",
    "df_source_data.describe()"
   ]
  },
  {
   "cell_type": "code",
   "execution_count": 5,
   "id": "b5a8d3de",
   "metadata": {},
   "outputs": [
    {
     "data": {
      "text/html": [
       "<div>\n",
       "<style scoped>\n",
       "    .dataframe tbody tr th:only-of-type {\n",
       "        vertical-align: middle;\n",
       "    }\n",
       "\n",
       "    .dataframe tbody tr th {\n",
       "        vertical-align: top;\n",
       "    }\n",
       "\n",
       "    .dataframe thead th {\n",
       "        text-align: right;\n",
       "    }\n",
       "</style>\n",
       "<table border=\"1\" class=\"dataframe\">\n",
       "  <thead>\n",
       "    <tr style=\"text-align: right;\">\n",
       "      <th></th>\n",
       "      <th>ride_id</th>\n",
       "      <th>rideable_type</th>\n",
       "      <th>started_at</th>\n",
       "      <th>ended_at</th>\n",
       "      <th>start_station_name</th>\n",
       "      <th>start_station_id</th>\n",
       "      <th>end_station_name</th>\n",
       "      <th>end_station_id</th>\n",
       "      <th>start_lat</th>\n",
       "      <th>start_lng</th>\n",
       "      <th>end_lat</th>\n",
       "      <th>end_lng</th>\n",
       "      <th>member_casual</th>\n",
       "    </tr>\n",
       "  </thead>\n",
       "  <tbody>\n",
       "    <tr>\n",
       "      <th>0</th>\n",
       "      <td>E4F548BF3BDC9E08</td>\n",
       "      <td>electric_bike</td>\n",
       "      <td>2025-05-20 15:35:37.858</td>\n",
       "      <td>2025-05-20 15:40:42.825</td>\n",
       "      <td>Hoboken Terminal - Hudson St &amp; Hudson Pl</td>\n",
       "      <td>HB101</td>\n",
       "      <td>Newport PATH</td>\n",
       "      <td>JC066</td>\n",
       "      <td>40.735938</td>\n",
       "      <td>-74.030305</td>\n",
       "      <td>40.727224</td>\n",
       "      <td>-74.033759</td>\n",
       "      <td>member</td>\n",
       "    </tr>\n",
       "    <tr>\n",
       "      <th>1</th>\n",
       "      <td>760AC0F17953E290</td>\n",
       "      <td>classic_bike</td>\n",
       "      <td>2025-05-08 09:18:21.618</td>\n",
       "      <td>2025-05-08 09:25:44.348</td>\n",
       "      <td>Hoboken Terminal - Hudson St &amp; Hudson Pl</td>\n",
       "      <td>HB101</td>\n",
       "      <td>Newport PATH</td>\n",
       "      <td>JC066</td>\n",
       "      <td>40.735938</td>\n",
       "      <td>-74.030305</td>\n",
       "      <td>40.727224</td>\n",
       "      <td>-74.033759</td>\n",
       "      <td>member</td>\n",
       "    </tr>\n",
       "    <tr>\n",
       "      <th>2</th>\n",
       "      <td>958826E821B25316</td>\n",
       "      <td>electric_bike</td>\n",
       "      <td>2025-05-16 14:31:31.147</td>\n",
       "      <td>2025-05-16 14:34:53.259</td>\n",
       "      <td>Hoboken Terminal - Hudson St &amp; Hudson Pl</td>\n",
       "      <td>HB101</td>\n",
       "      <td>Church Sq Park - 5 St &amp; Park Ave</td>\n",
       "      <td>HB601</td>\n",
       "      <td>40.735938</td>\n",
       "      <td>-74.030305</td>\n",
       "      <td>40.742659</td>\n",
       "      <td>-74.032233</td>\n",
       "      <td>member</td>\n",
       "    </tr>\n",
       "    <tr>\n",
       "      <th>3</th>\n",
       "      <td>2FFC6FF06AC742E1</td>\n",
       "      <td>electric_bike</td>\n",
       "      <td>2025-05-05 14:31:37.555</td>\n",
       "      <td>2025-05-05 14:35:28.478</td>\n",
       "      <td>Hoboken Terminal - Hudson St &amp; Hudson Pl</td>\n",
       "      <td>HB101</td>\n",
       "      <td>Church Sq Park - 5 St &amp; Park Ave</td>\n",
       "      <td>HB601</td>\n",
       "      <td>40.735938</td>\n",
       "      <td>-74.030305</td>\n",
       "      <td>40.742659</td>\n",
       "      <td>-74.032233</td>\n",
       "      <td>member</td>\n",
       "    </tr>\n",
       "    <tr>\n",
       "      <th>4</th>\n",
       "      <td>D2F0D983175EF26E</td>\n",
       "      <td>electric_bike</td>\n",
       "      <td>2025-05-18 11:56:32.631</td>\n",
       "      <td>2025-05-18 12:23:16.346</td>\n",
       "      <td>Hoboken Terminal - Hudson St &amp; Hudson Pl</td>\n",
       "      <td>HB101</td>\n",
       "      <td>Morris Canal</td>\n",
       "      <td>JC072</td>\n",
       "      <td>40.735938</td>\n",
       "      <td>-74.030305</td>\n",
       "      <td>40.712419</td>\n",
       "      <td>-74.038526</td>\n",
       "      <td>member</td>\n",
       "    </tr>\n",
       "  </tbody>\n",
       "</table>\n",
       "</div>"
      ],
      "text/plain": [
       "            ride_id  rideable_type               started_at  \\\n",
       "0  E4F548BF3BDC9E08  electric_bike  2025-05-20 15:35:37.858   \n",
       "1  760AC0F17953E290   classic_bike  2025-05-08 09:18:21.618   \n",
       "2  958826E821B25316  electric_bike  2025-05-16 14:31:31.147   \n",
       "3  2FFC6FF06AC742E1  electric_bike  2025-05-05 14:31:37.555   \n",
       "4  D2F0D983175EF26E  electric_bike  2025-05-18 11:56:32.631   \n",
       "\n",
       "                  ended_at                        start_station_name  \\\n",
       "0  2025-05-20 15:40:42.825  Hoboken Terminal - Hudson St & Hudson Pl   \n",
       "1  2025-05-08 09:25:44.348  Hoboken Terminal - Hudson St & Hudson Pl   \n",
       "2  2025-05-16 14:34:53.259  Hoboken Terminal - Hudson St & Hudson Pl   \n",
       "3  2025-05-05 14:35:28.478  Hoboken Terminal - Hudson St & Hudson Pl   \n",
       "4  2025-05-18 12:23:16.346  Hoboken Terminal - Hudson St & Hudson Pl   \n",
       "\n",
       "  start_station_id                  end_station_name end_station_id  \\\n",
       "0            HB101                      Newport PATH          JC066   \n",
       "1            HB101                      Newport PATH          JC066   \n",
       "2            HB101  Church Sq Park - 5 St & Park Ave          HB601   \n",
       "3            HB101  Church Sq Park - 5 St & Park Ave          HB601   \n",
       "4            HB101                      Morris Canal          JC072   \n",
       "\n",
       "   start_lat  start_lng    end_lat    end_lng member_casual  \n",
       "0  40.735938 -74.030305  40.727224 -74.033759        member  \n",
       "1  40.735938 -74.030305  40.727224 -74.033759        member  \n",
       "2  40.735938 -74.030305  40.742659 -74.032233        member  \n",
       "3  40.735938 -74.030305  40.742659 -74.032233        member  \n",
       "4  40.735938 -74.030305  40.712419 -74.038526        member  "
      ]
     },
     "execution_count": 5,
     "metadata": {},
     "output_type": "execute_result"
    }
   ],
   "source": [
    "df_source_data.head()"
   ]
  },
  {
   "cell_type": "code",
   "execution_count": 6,
   "id": "dfe80330",
   "metadata": {},
   "outputs": [
    {
     "name": "stderr",
     "output_type": "stream",
     "text": [
      "/home/hanafi/miniconda3/envs/dsai_project/lib/python3.10/site-packages/duckdb_engine/__init__.py:184: DuckDBEngineWarning: duckdb-engine doesn't yet support reflection on indices\n",
      "  warnings.warn(\n"
     ]
    },
    {
     "data": {
      "text/plain": [
       "-1"
      ]
     },
     "execution_count": 6,
     "metadata": {},
     "output_type": "execute_result"
    }
   ],
   "source": [
    "df_source_data.to_sql(df_table_name, con=engine, if_exists='replace', index=True)"
   ]
  },
  {
   "cell_type": "markdown",
   "id": "29258b8c",
   "metadata": {},
   "source": [
    "## Releasing DB resources"
   ]
  },
  {
   "cell_type": "code",
   "execution_count": 7,
   "id": "c0ff0428",
   "metadata": {},
   "outputs": [],
   "source": [
    "engine.dispose()"
   ]
  },
  {
   "cell_type": "code",
   "execution_count": 9,
   "id": "4c0f29ec",
   "metadata": {},
   "outputs": [
    {
     "data": {
      "text/plain": [
       "<duckdb.duckdb.DuckDBPyConnection at 0x7f9830862bf0>"
      ]
     },
     "execution_count": 9,
     "metadata": {},
     "output_type": "execute_result"
    }
   ],
   "source": [
    "# In Jupyter or your Python script\n",
    "import pandas as pd\n",
    "import duckdb\n",
    "\n",
    "df = pd.read_csv(\"../data/JC-202505-citibike-tripdata.csv\")\n",
    "con = duckdb.connect(\"../db/citibike-tripdata.db\")\n",
    "con.execute(\"CREATE OR REPLACE TABLE main_citibike_tripdata AS SELECT * FROM df\")\n"
   ]
  }
 ],
 "metadata": {
  "kernelspec": {
   "display_name": "kafka",
   "language": "python",
   "name": "python3"
  },
  "language_info": {
   "codemirror_mode": {
    "name": "ipython",
    "version": 3
   },
   "file_extension": ".py",
   "mimetype": "text/x-python",
   "name": "python",
   "nbconvert_exporter": "python",
   "pygments_lexer": "ipython3",
   "version": "3.10.13"
  }
 },
 "nbformat": 4,
 "nbformat_minor": 5
}
